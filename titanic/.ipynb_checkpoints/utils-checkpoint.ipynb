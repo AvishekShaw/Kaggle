{
 "cells": [
  {
   "cell_type": "code",
   "execution_count": 2,
   "id": "374ffe21-138f-4a15-a892-043a05a8d834",
   "metadata": {},
   "outputs": [],
   "source": [
    "import pandas as pd\n",
    "import numpy as np\n",
    "import sklearn\n",
    "import subprocess\n",
    "import os"
   ]
  },
  {
   "cell_type": "code",
   "execution_count": 1,
   "id": "bc2cfb82-e37e-44fd-9a22-611e785de95f",
   "metadata": {},
   "outputs": [],
   "source": [
    "def print_module(module_name,package_name=\"sklearn\",file_name=\"__init__.py\"):\n",
    "    \"\"\"\n",
    "    prints the init file of any python module from the path:\n",
    "    home/avishek/anaconda3/lib/python3.8/site-packages/package_name/module_name/file_name\n",
    "    \n",
    "    Params:\n",
    "    -------\n",
    "    module_name(str): name of the module to be printed\n",
    "    package_name(str) : name of the package to be printed\n",
    "\n",
    "    Eg: if the module name is \"feature_extraction\" and package name is \"sklearn\" and file_name is \"__init__.py\"\n",
    "    then this program will print the output of \"home/avishek/anaconda3/lib/python3.8/site-packages/sklearn/feature_extraction/__init__.py\"\n",
    "    \"\"\"\n",
    "    import subprocess\n",
    "    base_path = \"/home/avishek/anaconda3/lib/python3.8/site-packages\"\n",
    "    file_path = os.path.join(base_path,*[package_name,module_name,\"__init__.py\"])\n",
    "    with open(f\"{file_path}\", 'r') as file:\n",
    "        print(file.read())"
   ]
  },
  {
   "cell_type": "code",
   "execution_count": null,
   "id": "49c6ebca-fa30-4199-b70a-f605b28921df",
   "metadata": {},
   "outputs": [],
   "source": []
  }
 ],
 "metadata": {
  "kernelspec": {
   "display_name": "Python 3 (ipykernel)",
   "language": "python",
   "name": "python3"
  },
  "language_info": {
   "codemirror_mode": {
    "name": "ipython",
    "version": 3
   },
   "file_extension": ".py",
   "mimetype": "text/x-python",
   "name": "python",
   "nbconvert_exporter": "python",
   "pygments_lexer": "ipython3",
   "version": "3.8.5"
  }
 },
 "nbformat": 4,
 "nbformat_minor": 5
}
